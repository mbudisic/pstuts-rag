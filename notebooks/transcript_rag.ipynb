{
 "cells": [
  {
   "cell_type": "code",
   "execution_count": 1,
   "metadata": {},
   "outputs": [
    {
     "name": "stdout",
     "output_type": "stream",
     "text": [
      "/home/mbudisic/Documents/PsTuts-RAG\n"
     ]
    }
   ],
   "source": [
    "%cd /home/mbudisic/Documents/PsTuts-RAG\n",
    "import os\n",
    "from getpass import getpass\n",
    "from dotenv import load_dotenv\n",
    "from pstuts_rag.configuration import Configuration\n",
    "import asyncio\n",
    "\n",
    "import nest_asyncio\n",
    "nest_asyncio.apply()\n"
   ]
  },
  {
   "cell_type": "code",
   "execution_count": 2,
   "metadata": {},
   "outputs": [],
   "source": [
    "import pstuts_rag"
   ]
  },
  {
   "cell_type": "code",
   "execution_count": 3,
   "metadata": {},
   "outputs": [],
   "source": [
    "import logging\n",
    "logging.basicConfig(\n",
    "    level=Configuration().eva_log_level,\n",
    "    format='%(asctime)s - %(levelname)s - %(funcName)s - %(message)s'\n",
    ")"
   ]
  },
  {
   "cell_type": "code",
   "execution_count": 4,
   "metadata": {},
   "outputs": [],
   "source": [
    "%load_ext autoreload\n",
    "%autoreload 2\n"
   ]
  },
  {
   "cell_type": "code",
   "execution_count": 5,
   "metadata": {},
   "outputs": [
    {
     "data": {
      "text/plain": [
       "True"
      ]
     },
     "execution_count": 5,
     "metadata": {},
     "output_type": "execute_result"
    }
   ],
   "source": [
    "load_dotenv()\n"
   ]
  },
  {
   "cell_type": "code",
   "execution_count": 6,
   "metadata": {},
   "outputs": [
    {
     "name": "stderr",
     "output_type": "stream",
     "text": [
      "2025-05-31 01:01:57,165 - INFO - <module> - Loaded .env file\n"
     ]
    }
   ],
   "source": [
    "from pstuts_rag.rag_for_transcripts import *"
   ]
  },
  {
   "cell_type": "code",
   "execution_count": 7,
   "metadata": {},
   "outputs": [
    {
     "name": "stderr",
     "output_type": "stream",
     "text": [
      "2025-05-31 01:01:59,036 - INFO - print - Configuration parameters:\n",
      "2025-05-31 01:01:59,037 - INFO - print -   eva_workflow_name: EVA_workflow\n",
      "2025-05-31 01:01:59,038 - INFO - print -   eva_log_level: INFO\n",
      "2025-05-31 01:01:59,039 - INFO - print -   transcript_glob: ./data/test.json\n",
      "2025-05-31 01:01:59,040 - INFO - print -   embedding_model: text-embedding-3-small\n",
      "2025-05-31 01:01:59,042 - INFO - print -   eva_strip_think: True\n",
      "2025-05-31 01:01:59,042 - INFO - print -   embedding_api: ModelAPI.OPENAI\n",
      "2025-05-31 01:01:59,042 - INFO - print -   llm_api: ModelAPI.OPENAI\n",
      "2025-05-31 01:01:59,043 - INFO - print -   max_research_loops: 2\n",
      "2025-05-31 01:01:59,043 - INFO - print -   llm_tool_model: gpt-4.1-mini\n",
      "2025-05-31 01:01:59,044 - INFO - print -   n_context_docs: 3\n"
     ]
    }
   ],
   "source": [
    "Configuration().print(logging.info)"
   ]
  },
  {
   "cell_type": "code",
   "execution_count": 8,
   "metadata": {},
   "outputs": [
    {
     "name": "stderr",
     "output_type": "stream",
     "text": [
      "2025-05-31 01:01:59,776 - INFO - _send_single_request - HTTP Request: POST https://api.openai.com/v1/embeddings \"HTTP/1.1 200 OK\"\n",
      "2025-05-31 01:02:00,223 - INFO - _send_single_request - HTTP Request: POST https://api.openai.com/v1/embeddings \"HTTP/1.1 200 OK\"\n"
     ]
    },
    {
     "data": {
      "text/plain": [
       "<Task pending name='Task-1' coro=<DatastoreManager.from_json_globs() running at /home/mbudisic/Documents/PsTuts-RAG/pstuts_rag/pstuts_rag/datastore.py:105>>"
      ]
     },
     "execution_count": 8,
     "metadata": {},
     "output_type": "execute_result"
    }
   ],
   "source": [
    "datastore = DatastoreManager()\n",
    "datastore.add_completion_callback(lambda _: logging.warning(\"Loading complete.\"))\n",
    "asyncio.create_task(datastore.from_json_globs(Configuration().transcript_glob))"
   ]
  },
  {
   "cell_type": "code",
   "execution_count": 9,
   "metadata": {},
   "outputs": [
    {
     "name": "stderr",
     "output_type": "stream",
     "text": [
      "2025-05-31 01:02:00,707 - INFO - _send_single_request - HTTP Request: POST https://api.openai.com/v1/embeddings \"HTTP/1.1 200 OK\"\n",
      "2025-05-31 01:02:00,717 - INFO - _send_single_request - HTTP Request: POST https://api.openai.com/v1/embeddings \"HTTP/1.1 200 OK\"\n",
      "2025-05-31 01:02:00,786 - INFO - _send_single_request - HTTP Request: POST https://api.openai.com/v1/embeddings \"HTTP/1.1 200 OK\"\n",
      "2025-05-31 01:02:00,830 - INFO - _send_single_request - HTTP Request: POST https://api.openai.com/v1/embeddings \"HTTP/1.1 200 OK\"\n",
      "2025-05-31 01:02:01,060 - INFO - _send_single_request - HTTP Request: POST https://api.openai.com/v1/embeddings \"HTTP/1.1 200 OK\"\n",
      "2025-05-31 01:02:01,092 - INFO - _send_single_request - HTTP Request: POST https://api.openai.com/v1/embeddings \"HTTP/1.1 200 OK\"\n",
      "2025-05-31 01:02:01,234 - INFO - _send_single_request - HTTP Request: POST https://api.openai.com/v1/embeddings \"HTTP/1.1 200 OK\"\n",
      "2025-05-31 01:02:01,452 - INFO - _send_single_request - HTTP Request: POST https://api.openai.com/v1/embeddings \"HTTP/1.1 200 OK\"\n",
      "2025-05-31 01:02:01,543 - INFO - _send_single_request - HTTP Request: POST https://api.openai.com/v1/embeddings \"HTTP/1.1 200 OK\"\n",
      "2025-05-31 01:02:01,773 - INFO - _send_single_request - HTTP Request: POST https://api.openai.com/v1/embeddings \"HTTP/1.1 200 OK\"\n",
      "2025-05-31 01:02:02,459 - INFO - _send_single_request - HTTP Request: POST https://api.openai.com/v1/embeddings \"HTTP/1.1 200 OK\"\n",
      "2025-05-31 01:02:02,951 - INFO - _send_single_request - HTTP Request: POST https://api.openai.com/v1/embeddings \"HTTP/1.1 200 OK\"\n",
      "2025-05-31 01:02:03,020 - INFO - _send_single_request - HTTP Request: POST https://api.openai.com/v1/embeddings \"HTTP/1.1 200 OK\"\n",
      "2025-05-31 01:02:03,075 - INFO - _send_single_request - HTTP Request: POST https://api.openai.com/v1/embeddings \"HTTP/1.1 200 OK\"\n",
      "2025-05-31 01:02:03,301 - INFO - _send_single_request - HTTP Request: POST https://api.openai.com/v1/embeddings \"HTTP/1.1 200 OK\"\n",
      "2025-05-31 01:02:05,029 - INFO - _send_single_request - HTTP Request: POST https://api.openai.com/v1/embeddings \"HTTP/1.1 200 OK\"\n"
     ]
    },
    {
     "data": {
      "text/plain": [
       "True"
      ]
     },
     "execution_count": 9,
     "metadata": {},
     "output_type": "execute_result"
    }
   ],
   "source": [
    "await datastore.wait_for_loading()"
   ]
  },
  {
   "cell_type": "code",
   "execution_count": 10,
   "metadata": {},
   "outputs": [],
   "source": [
    "chain = create_transcript_rag_chain(datastore)"
   ]
  },
  {
   "cell_type": "code",
   "execution_count": 11,
   "metadata": {},
   "outputs": [
    {
     "name": "stderr",
     "output_type": "stream",
     "text": [
      "2025-05-31 01:02:05,322 - INFO - _send_single_request - HTTP Request: POST https://api.openai.com/v1/embeddings \"HTTP/1.1 200 OK\"\n",
      "2025-05-31 01:02:08,523 - INFO - _send_single_request - HTTP Request: POST https://api.openai.com/v1/chat/completions \"HTTP/1.1 200 OK\"\n"
     ]
    }
   ],
   "source": [
    "response = chain.invoke({\"question\":\"What is a layer?\"})"
   ]
  },
  {
   "cell_type": "code",
   "execution_count": 12,
   "metadata": {},
   "outputs": [
    {
     "name": "stdout",
     "output_type": "stream",
     "text": [
      "==================================\u001b[1m Ai Message \u001b[0m==================================\n",
      "\n",
      "A layer in Photoshop CC is like a separate flat pane of glass stacked on top of others. Each layer contains separate pieces of content that you can work on independently. Layers may have transparent areas that let you see through to layers below. The biggest benefit of using layers is being able to edit parts of an image independently without affecting the rest of the image (see 0:47–3:41 and 85:45–87:10). 🎨🖼️\n",
      "**REFERENCES**\n",
      "[\n",
      "  {\n",
      "    \"title\": \"Understand layers\",\n",
      "    \"source\": \"https://images-tv.adobe.com/avp/vr/b758b4c4-2a74-41f4-8e67-e2f2eab83c6a/f810fc5b-2b04-4e23-8fa4-5c532e7de6f8/e268fe4d-e5c7-415c-9f5c-d34d024b14d8_20170727011753.1280x720at2400_h264.mp4\",\n",
      "    \"start\": 0.47,\n",
      "    \"stop\": 62.14\n",
      "  },\n",
      "  {\n",
      "    \"title\": \"Understand layers\",\n",
      "    \"source\": \"https://images-tv.adobe.com/avp/vr/b758b4c4-2a74-41f4-8e67-e2f2eab83c6a/f810fc5b-2b04-4e23-8fa4-5c532e7de6f8/e268fe4d-e5c7-415c-9f5c-d34d024b14d8_20170727011753.1280x720at2400_h264.mp4\",\n",
      "    \"start\": 85.75,\n",
      "    \"stop\": 152.97\n",
      "  },\n",
      "  {\n",
      "    \"title\": \"Get organized with layer groups\",\n",
      "    \"source\": \"https://videos-tv.adobe.com/2013-07-23/f65b5a0ef188ba5e5a96df93a8ead3cf.mp4\",\n",
      "    \"start\": 181.35,\n",
      "    \"stop\": 239.72\n",
      "  }\n",
      "]\n"
     ]
    }
   ],
   "source": [
    "response.pretty_print()"
   ]
  },
  {
   "cell_type": "code",
   "execution_count": 13,
   "metadata": {},
   "outputs": [
    {
     "data": {
      "text/plain": [
       "[Document(metadata={'video_id': 19172, 'title': 'Understand layers', 'desc': 'Learn what layers are and why they are so useful.', 'length': '00:04:44.75', 'group': 'data/test.json', 'source': 'https://images-tv.adobe.com/avp/vr/b758b4c4-2a74-41f4-8e67-e2f2eab83c6a/f810fc5b-2b04-4e23-8fa4-5c532e7de6f8/e268fe4d-e5c7-415c-9f5c-d34d024b14d8_20170727011753.1280x720at2400_h264.mp4', 'speech_start_stop_times': [[0.47, 3.41], [3.81, 9.13], [9.309999, 15.01], [15.299999, 20.57], [20.88, 23.3], [23.83, 27.93], [29.38, 32.79], [32.96, 33.92], [34.43, 40.21], [41.91, 45.37], [45.88, 49.01], [49.54, 55.130001], [55.72, 58.49], [58.72, 62.14]], 'start': 0.47, 'stop': 62.14, '_id': 21, '_collection_name': 'a19921d4-b5da-4707-bf34-1b1e3828d581'}, page_content=\"Layers are the building blocks of any image in Photoshop CC. So, it's important to understand, what layers are and why to use them - which we'll cover in this video. If you're following along, open this layered image from the downloadable practice files for this tutorial. You might think of layers like separate flat pints of glass, stacked one on top of the other. Each layer contains separate pieces of content. To get a sense of how layers are constructed, let's take a look at this Layers panel. I've closed my other panels, so that we can focus on the Layers panel. But you can skip that. By the way: If your Layers panel isn't showing, go up to the Window menu and choose Layers from there. The Layers panel is where you go to select and work with layers. In this image there are 4 layers, each with separate content. If you click the Eye icon to the left of a layer, you can toggle the visibility of that layer off and on. So, I'm going to turn off the visibility of the tailor layer. And keep your eye on the image, so you can see what's on that layer.\"),\n",
       " Document(metadata={'video_id': 19172, 'title': 'Understand layers', 'desc': 'Learn what layers are and why they are so useful.', 'length': '00:04:44.75', 'group': 'data/test.json', 'source': 'https://images-tv.adobe.com/avp/vr/b758b4c4-2a74-41f4-8e67-e2f2eab83c6a/f810fc5b-2b04-4e23-8fa4-5c532e7de6f8/e268fe4d-e5c7-415c-9f5c-d34d024b14d8_20170727011753.1280x720at2400_h264.mp4', 'speech_start_stop_times': [[85.75, 88.659999], [89.42, 100.11], [101.469999, 108.64], [109.09, 117.459999], [117.75, 129.45], [129.97, 133.37], [133.73, 143.98], [144.76, 152.97]], 'start': 85.75, 'stop': 152.97, '_id': 23, '_collection_name': 'a19921d4-b5da-4707-bf34-1b1e3828d581'}, page_content=\"Now let's take a look at just one layer, the tailor layer. A quick way to turn off all the layers except the tailor layer, is to hold down the Option key on the Mac, or the ALT key on the PC, and click on the Eye icon to the left of the tailor layer. In the Document window, you can see that this layer contains just the one small photo surrounded by a gray and white checkerboard pattern. That pattern represents transparent pixels, which allow us to see down through the corresponding part of this layer to the content of the layers below. So, let's turn that content back on by going back to the Layers panel, again holding the Option key on the Mac or the ALT key on the PC and clicking on the Eye icon to the left of the tailor layer. And all the other layers and their Eye icons come back into view. So again: You might think of layers like a stack of pints of glass, each with its own artwork and in some cases transparent areas that let you see down through to the layers below. The biggest benefit of having items on separate layers like this, is that you'll be able to edit pieces of an image independently without affecting the rest of the image.\"),\n",
       " Document(metadata={'video_id': 4157, 'title': 'Get organized with layer groups', 'desc': 'Learn some great tips for working with layers.', 'length': '00:04:05.78', 'group': 'data/test.json', 'source': 'https://videos-tv.adobe.com/2013-07-23/f65b5a0ef188ba5e5a96df93a8ead3cf.mp4', 'speech_start_stop_times': [[181.35, 182.05], [183.16, 184.01], [184.44, 186.49], [186.62, 187.46], [187.97, 191.469999], [191.79, 194.43], [195.0, 203.05], [203.13, 205.93], [206.37, 209.55], [210.09, 212.449999], [212.46, 215.060001], [215.609999, 219.54], [220.02, 223.97], [225.37, 227.109999], [227.929999, 228.57], [229.07, 239.72]], 'start': 181.35, 'stop': 239.72, '_id': 3, '_collection_name': 'a19921d4-b5da-4707-bf34-1b1e3828d581'}, page_content='Click \"OK\". You did it again. Let\\'s talk about one more way to do this. Using searching. Let\\'s say we have a complicated document that has a lot of stuff in it. We have a lot of type or text layers. That\\'s a unique type of layer in the Layers panel, which got a bunch of them you\\'ve got a couple of hundred layers and these are scattered all over the place. And you want all of your type layers in one group. So we go to the Search facility here and click \"Kind\". And then click this button for just type layers. It isolates everything but those two. We select them with a \"Shift\" click, go up here, this is the easiest way to do it. Go into \"New Group from Layers\" and call it \"Text\" - type whatever you want. And then turn this back off again - here. And there you go. Creating groups gives you control, it reduces the chaos and clutter in the Layers panel and if at any time you change your mind, it\\'s a very easy thing to take them back out again.')]"
      ]
     },
     "execution_count": 13,
     "metadata": {},
     "output_type": "execute_result"
    }
   ],
   "source": [
    "response.additional_kwargs[\"context\"]"
   ]
  },
  {
   "cell_type": "code",
   "execution_count": 14,
   "metadata": {},
   "outputs": [
    {
     "data": {
      "text/plain": [
       "Configuration(eva_workflow_name='EVA_workflow', eva_log_level='INFO', transcript_glob='./data/test.json', embedding_model='text-embedding-3-small', eva_strip_think=True, embedding_api=<ModelAPI.OPENAI: 'OPENAI'>, llm_api=<ModelAPI.OPENAI: 'OPENAI'>, max_research_loops=2, llm_tool_model='gpt-4.1-mini', n_context_docs=3)"
      ]
     },
     "execution_count": 14,
     "metadata": {},
     "output_type": "execute_result"
    }
   ],
   "source": [
    "Configuration()\n"
   ]
  },
  {
   "cell_type": "code",
   "execution_count": null,
   "metadata": {},
   "outputs": [],
   "source": []
  }
 ],
 "metadata": {
  "kernelspec": {
   "display_name": ".venv",
   "language": "python",
   "name": "python3"
  },
  "language_info": {
   "codemirror_mode": {
    "name": "ipython",
    "version": 3
   },
   "file_extension": ".py",
   "mimetype": "text/x-python",
   "name": "python",
   "nbconvert_exporter": "python",
   "pygments_lexer": "ipython3",
   "version": "3.11.11"
  }
 },
 "nbformat": 4,
 "nbformat_minor": 2
}
