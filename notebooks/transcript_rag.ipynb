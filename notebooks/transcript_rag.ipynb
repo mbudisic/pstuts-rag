{
 "cells": [
  {
   "cell_type": "code",
   "execution_count": 1,
   "metadata": {},
   "outputs": [
    {
     "name": "stdout",
     "output_type": "stream",
     "text": [
      "/home/mbudisic/Documents/PsTuts-RAG\n"
     ]
    }
   ],
   "source": [
    "%cd /home/mbudisic/Documents/PsTuts-RAG\n",
    "import os\n",
    "from getpass import getpass\n",
    "from dotenv import load_dotenv\n",
    "from pstuts_rag.configuration import Configuration\n",
    "import asyncio\n",
    "\n",
    "import nest_asyncio\n",
    "nest_asyncio.apply()\n"
   ]
  },
  {
   "cell_type": "code",
   "execution_count": 2,
   "metadata": {},
   "outputs": [],
   "source": [
    "import pstuts_rag"
   ]
  },
  {
   "cell_type": "code",
   "execution_count": 3,
   "metadata": {},
   "outputs": [],
   "source": [
    "import logging\n",
    "logging.basicConfig(\n",
    "    level=Configuration().eva_log_level,\n",
    "    format='%(asctime)s - %(levelname)s - %(funcName)s - %(message)s'\n",
    ")"
   ]
  },
  {
   "cell_type": "code",
   "execution_count": 4,
   "metadata": {},
   "outputs": [],
   "source": [
    "%load_ext autoreload\n",
    "%autoreload 2\n"
   ]
  },
  {
   "cell_type": "code",
   "execution_count": null,
   "metadata": {},
   "outputs": [
    {
     "data": {
      "text/plain": [
       "True"
      ]
     },
     "execution_count": 5,
     "metadata": {},
     "output_type": "execute_result"
    }
   ],
   "source": [
    "load_dotenv()\n"
   ]
  },
  {
   "cell_type": "code",
   "execution_count": 6,
   "metadata": {},
   "outputs": [
    {
     "name": "stderr",
     "output_type": "stream",
     "text": [
      "2025-05-31 00:25:16,293 - INFO - <module> - Loaded .env file\n"
     ]
    }
   ],
   "source": [
    "from pstuts_rag.rag_for_transcripts import *"
   ]
  },
  {
   "cell_type": "code",
   "execution_count": 7,
   "metadata": {},
   "outputs": [
    {
     "name": "stderr",
     "output_type": "stream",
     "text": [
      "2025-05-31 00:25:18,096 - INFO - print - Configuration parameters:\n",
      "2025-05-31 00:25:18,097 - INFO - print -   eva_workflow_name: EVA_workflow\n",
      "2025-05-31 00:25:18,099 - INFO - print -   eva_log_level: INFO\n",
      "2025-05-31 00:25:18,100 - INFO - print -   transcript_glob: ./data/test.json\n",
      "2025-05-31 00:25:18,101 - INFO - print -   embedding_model: mxbai-embed-large\n",
      "2025-05-31 00:25:18,102 - INFO - print -   eva_strip_think: True\n",
      "2025-05-31 00:25:18,103 - INFO - print -   embedding_api: ModelAPI.OLLAMA\n",
      "2025-05-31 00:25:18,104 - INFO - print -   llm_api: ModelAPI.OLLAMA\n"
     ]
    },
    {
     "name": "stderr",
     "output_type": "stream",
     "text": [
      "2025-05-31 00:25:18,104 - INFO - print -   max_research_loops: 2\n",
      "2025-05-31 00:25:18,105 - INFO - print -   llm_tool_model: qwen3:4b\n",
      "2025-05-31 00:25:18,106 - INFO - print -   n_context_docs: 3\n"
     ]
    }
   ],
   "source": [
    "Configuration().print(logging.info)"
   ]
  },
  {
   "cell_type": "code",
   "execution_count": 8,
   "metadata": {},
   "outputs": [
    {
     "name": "stderr",
     "output_type": "stream",
     "text": [
      "2025-05-31 00:25:19,818 - INFO - _send_single_request - HTTP Request: POST http://127.0.0.1:11434/api/embed \"HTTP/1.1 200 OK\"\n",
      "2025-05-31 00:25:19,844 - INFO - _send_single_request - HTTP Request: POST http://127.0.0.1:11434/api/embed \"HTTP/1.1 200 OK\"\n"
     ]
    },
    {
     "data": {
      "text/plain": [
       "<Task pending name='Task-1' coro=<DatastoreManager.from_json_globs() running at /home/mbudisic/Documents/PsTuts-RAG/pstuts_rag/pstuts_rag/datastore.py:105>>"
      ]
     },
     "execution_count": 8,
     "metadata": {},
     "output_type": "execute_result"
    }
   ],
   "source": [
    "datastore = DatastoreManager()\n",
    "datastore.add_completion_callback(lambda _: logging.warning(\"Loading complete.\"))\n",
    "asyncio.create_task(datastore.from_json_globs(Configuration().transcript_glob))"
   ]
  },
  {
   "cell_type": "code",
   "execution_count": 9,
   "metadata": {},
   "outputs": [
    {
     "name": "stderr",
     "output_type": "stream",
     "text": [
      "2025-05-31 00:25:20,879 - INFO - _send_single_request - HTTP Request: POST http://127.0.0.1:11434/api/embed \"HTTP/1.1 200 OK\"\n",
      "2025-05-31 00:25:21,701 - INFO - _send_single_request - HTTP Request: POST http://127.0.0.1:11434/api/embed \"HTTP/1.1 200 OK\"\n",
      "2025-05-31 00:25:22,528 - INFO - _send_single_request - HTTP Request: POST http://127.0.0.1:11434/api/embed \"HTTP/1.1 200 OK\"\n",
      "2025-05-31 00:25:23,356 - INFO - _send_single_request - HTTP Request: POST http://127.0.0.1:11434/api/embed \"HTTP/1.1 200 OK\"\n",
      "2025-05-31 00:25:23,851 - INFO - _send_single_request - HTTP Request: POST http://127.0.0.1:11434/api/embed \"HTTP/1.1 200 OK\"\n",
      "2025-05-31 00:25:24,806 - INFO - _send_single_request - HTTP Request: POST http://127.0.0.1:11434/api/embed \"HTTP/1.1 200 OK\"\n",
      "2025-05-31 00:25:25,058 - INFO - _send_single_request - HTTP Request: POST http://127.0.0.1:11434/api/embed \"HTTP/1.1 200 OK\"\n",
      "2025-05-31 00:25:25,730 - INFO - _send_single_request - HTTP Request: POST http://127.0.0.1:11434/api/embed \"HTTP/1.1 200 OK\"\n",
      "2025-05-31 00:25:26,550 - INFO - _send_single_request - HTTP Request: POST http://127.0.0.1:11434/api/embed \"HTTP/1.1 200 OK\"\n",
      "2025-05-31 00:25:27,421 - INFO - _send_single_request - HTTP Request: POST http://127.0.0.1:11434/api/embed \"HTTP/1.1 200 OK\"\n",
      "2025-05-31 00:25:28,372 - INFO - _send_single_request - HTTP Request: POST http://127.0.0.1:11434/api/embed \"HTTP/1.1 200 OK\"\n",
      "2025-05-31 00:25:28,708 - INFO - _send_single_request - HTTP Request: POST http://127.0.0.1:11434/api/embed \"HTTP/1.1 200 OK\"\n",
      "2025-05-31 00:25:29,072 - INFO - _send_single_request - HTTP Request: POST http://127.0.0.1:11434/api/embed \"HTTP/1.1 200 OK\"\n",
      "2025-05-31 00:25:29,335 - INFO - _send_single_request - HTTP Request: POST http://127.0.0.1:11434/api/embed \"HTTP/1.1 200 OK\"\n",
      "2025-05-31 00:25:29,700 - INFO - _send_single_request - HTTP Request: POST http://127.0.0.1:11434/api/embed \"HTTP/1.1 200 OK\"\n",
      "2025-05-31 00:25:30,011 - INFO - _send_single_request - HTTP Request: POST http://127.0.0.1:11434/api/embed \"HTTP/1.1 200 OK\"\n"
     ]
    },
    {
     "data": {
      "text/plain": [
       "True"
      ]
     },
     "execution_count": 9,
     "metadata": {},
     "output_type": "execute_result"
    }
   ],
   "source": [
    "await datastore.wait_for_loading()"
   ]
  },
  {
   "cell_type": "code",
   "execution_count": 10,
   "metadata": {},
   "outputs": [],
   "source": [
    "chain = create_transcript_rag_chain(datastore)"
   ]
  },
  {
   "cell_type": "code",
   "execution_count": 11,
   "metadata": {},
   "outputs": [
    {
     "name": "stderr",
     "output_type": "stream",
     "text": [
      "2025-05-31 00:25:30,144 - INFO - _send_single_request - HTTP Request: POST http://127.0.0.1:11434/api/embed \"HTTP/1.1 200 OK\"\n",
      "2025-05-31 00:25:40,574 - INFO - _send_single_request - HTTP Request: POST http://127.0.0.1:11434/api/chat \"HTTP/1.1 200 OK\"\n"
     ]
    }
   ],
   "source": [
    "response = chain.invoke({\"question\":\"What is a layer?\"})"
   ]
  },
  {
   "cell_type": "code",
   "execution_count": 12,
   "metadata": {},
   "outputs": [
    {
     "name": "stdout",
     "output_type": "stream",
     "text": [
      "==================================\u001b[1m Ai Message \u001b[0m==================================\n",
      "\n",
      "\n",
      "\n",
      "A **layer** in Photoshop is a separate component of an image, acting like a \"flat pint of glass\" stacked on top of others. Each layer holds its own content (like a photo or artwork) and can be hidden or shown using the **Eye icon** in the Layers panel.  \n",
      "\n",
      "Key points from the video:  \n",
      "- Layers are the building blocks of any image in Photoshop.  \n",
      "- They allow you to edit parts of an image independently without affecting other parts.  \n",
      "- Transparent areas in a layer let you see through to layers below (e.g., a checkerboard pattern in the example).  \n",
      "- The **Layers panel** lets you manage and select individual layers for editing.  \n",
      "\n",
      "Timestamp: **00:00:00–00:00:23** (first explanation).  \n",
      "\n",
      "This is covered in the \"Understand layers\" video. 🎨\n",
      "**REFERENCES**\n",
      "[\n",
      "  {\n",
      "    \"title\": \"Understand layers\",\n",
      "    \"source\": \"https://images-tv.adobe.com/avp/vr/b758b4c4-2a74-41f4-8e67-e2f2eab83c6a/f810fc5b-2b04-4e23-8fa4-5c532e7de6f8/e268fe4d-e5c7-415c-9f5c-d34d024b14d8_20170727011753.1280x720at2400_h264.mp4\",\n",
      "    \"start\": 0.47,\n",
      "    \"stop\": 62.14\n",
      "  },\n",
      "  {\n",
      "    \"title\": \"Understand layers\",\n",
      "    \"source\": \"https://images-tv.adobe.com/avp/vr/b758b4c4-2a74-41f4-8e67-e2f2eab83c6a/f810fc5b-2b04-4e23-8fa4-5c532e7de6f8/e268fe4d-e5c7-415c-9f5c-d34d024b14d8_20170727011753.1280x720at2400_h264.mp4\",\n",
      "    \"start\": 280.4,\n",
      "    \"stop\": 284.58\n",
      "  },\n",
      "  {\n",
      "    \"title\": \"Understand layers\",\n",
      "    \"source\": \"https://images-tv.adobe.com/avp/vr/b758b4c4-2a74-41f4-8e67-e2f2eab83c6a/f810fc5b-2b04-4e23-8fa4-5c532e7de6f8/e268fe4d-e5c7-415c-9f5c-d34d024b14d8_20170727011753.1280x720at2400_h264.mp4\",\n",
      "    \"start\": 85.75,\n",
      "    \"stop\": 279.91\n",
      "  }\n",
      "]\n"
     ]
    }
   ],
   "source": [
    "response.pretty_print()"
   ]
  },
  {
   "cell_type": "code",
   "execution_count": 13,
   "metadata": {},
   "outputs": [
    {
     "data": {
      "text/plain": [
       "[Document(metadata={'video_id': 19172, 'title': 'Understand layers', 'desc': 'Learn what layers are and why they are so useful.', 'length': '00:04:44.75', 'group': 'data/test.json', 'source': 'https://images-tv.adobe.com/avp/vr/b758b4c4-2a74-41f4-8e67-e2f2eab83c6a/f810fc5b-2b04-4e23-8fa4-5c532e7de6f8/e268fe4d-e5c7-415c-9f5c-d34d024b14d8_20170727011753.1280x720at2400_h264.mp4', 'speech_start_stop_times': [[0.47, 3.41], [3.81, 9.13], [9.309999, 15.01], [15.299999, 20.57], [20.88, 23.3], [23.83, 27.93], [29.38, 32.79], [32.96, 33.92], [34.43, 40.21], [41.91, 45.37], [45.88, 49.01], [49.54, 55.130001], [55.72, 58.49], [58.72, 62.14]], 'start': 0.47, 'stop': 62.14, '_id': 21, '_collection_name': 'a31ff6bb-4d35-4b52-8612-55df01f799fa'}, page_content=\"Layers are the building blocks of any image in Photoshop CC. So, it's important to understand, what layers are and why to use them - which we'll cover in this video. If you're following along, open this layered image from the downloadable practice files for this tutorial. You might think of layers like separate flat pints of glass, stacked one on top of the other. Each layer contains separate pieces of content. To get a sense of how layers are constructed, let's take a look at this Layers panel. I've closed my other panels, so that we can focus on the Layers panel. But you can skip that. By the way: If your Layers panel isn't showing, go up to the Window menu and choose Layers from there. The Layers panel is where you go to select and work with layers. In this image there are 4 layers, each with separate content. If you click the Eye icon to the left of a layer, you can toggle the visibility of that layer off and on. So, I'm going to turn off the visibility of the tailor layer. And keep your eye on the image, so you can see what's on that layer.\"),\n",
       " Document(metadata={'video_id': 19172, 'title': 'Understand layers', 'desc': 'Learn what layers are and why they are so useful.', 'length': '00:04:44.75', 'group': 'data/test.json', 'source': 'https://images-tv.adobe.com/avp/vr/b758b4c4-2a74-41f4-8e67-e2f2eab83c6a/f810fc5b-2b04-4e23-8fa4-5c532e7de6f8/e268fe4d-e5c7-415c-9f5c-d34d024b14d8_20170727011753.1280x720at2400_h264.mp4', 'speech_start_stop_times': [[280.4, 284.58]], 'start': 280.4, 'stop': 284.58, '_id': 24, '_collection_name': 'a31ff6bb-4d35-4b52-8612-55df01f799fa'}, page_content=\"There's lots more to learn about layers, so stay tuned for the rest of this tutorial.\"),\n",
       " Document(metadata={'video_id': 19172, 'title': 'Understand layers', 'desc': 'Learn what layers are and why they are so useful.', 'length': '00:04:44.75', 'group': 'data/test.json', 'source': 'https://images-tv.adobe.com/avp/vr/b758b4c4-2a74-41f4-8e67-e2f2eab83c6a/f810fc5b-2b04-4e23-8fa4-5c532e7de6f8/e268fe4d-e5c7-415c-9f5c-d34d024b14d8_20170727011753.1280x720at2400_h264.mp4', 'speech_start_stop_times': [[85.75, 88.659999], [89.42, 100.11], [101.469999, 108.64], [109.09, 117.459999], [117.75, 129.45], [129.97, 133.37], [133.73, 143.98], [144.76, 152.97], [153.7, 155.87], [156.139999, 161.27], [161.789999, 165.03], [165.31, 170.53], [171.059999, 175.409999], [175.59, 186.54], [187.29, 189.44], [189.679999, 199.77], [200.07, 205.68], [205.89, 208.47], [208.76, 211.96], [212.25, 213.87], [214.289999, 222.08], [222.12, 227.62], [228.33, 233.199999], [233.57, 236.77], [237.25, 244.679999], [245.08, 255.14], [255.41, 261.84], [262.219999, 273.1], [273.32, 279.91]], 'start': 85.75, 'stop': 279.91, '_id': 23, '_collection_name': 'a31ff6bb-4d35-4b52-8612-55df01f799fa'}, page_content=\"Now let's take a look at just one layer, the tailor layer. A quick way to turn off all the layers except the tailor layer, is to hold down the Option key on the Mac, or the ALT key on the PC, and click on the Eye icon to the left of the tailor layer. In the Document window, you can see that this layer contains just the one small photo surrounded by a gray and white checkerboard pattern. That pattern represents transparent pixels, which allow us to see down through the corresponding part of this layer to the content of the layers below. So, let's turn that content back on by going back to the Layers panel, again holding the Option key on the Mac or the ALT key on the PC and clicking on the Eye icon to the left of the tailor layer. And all the other layers and their Eye icons come back into view. So again: You might think of layers like a stack of pints of glass, each with its own artwork and in some cases transparent areas that let you see down through to the layers below. The biggest benefit of having items on separate layers like this, is that you'll be able to edit pieces of an image independently without affecting the rest of the image. Follow along with this example to see what I mean. Let's say you wanted to edit or move just the small photo of the cloth being cut. To do that, you'd have to select the layer that contains that photo. Go to the Layers panel and click on the cloth layer just to the right of the layer name. Now that the cloth layer is selected, any editing you do will affect only that layer. For example, go to the Tools panel and select the Move tool and then click on the cloth photo and drag - and only that photo moves, because only that layer is selected. And this applies to other kinds of edits too. For example, if you painted on the image or applied a filter, as you'll do later in this tutorial series, those edits would affect only the selected cloth layer and not the rest of the image. By the way: There are some editing activities, like moving layers, that you can do to more than one layer at a time. And to do that, you need to select more than one layer. Over in the Layers panel, we already have the cloth layer selected. If you don't, click on that layer. To select the tailor layer too, hold down the Command key on a Mac or the Ctrl key on a PC, and click on the tailor layer. With both layers selected, you can click and drag either of those photos and they'll move together. Now here's a bonus tip: With the Move tool selected, take a look at its Options bar. And you'll see this option, Auto-Select: Layer is checked. With that option checked, clicking anywhere in the image will automatically select the top layer at that location that contains content. For example, watch the Layers panel as I click over here on the pattern photo and you'll see that the pattern layer was automatically selected for you in the Layers panel. Sometimes that's really useful, but sometimes it can cause you to inadvertently select a layer that you didn't mean to. To avoid that you can uncheck Auto-Select: Layer in the Move tool Options bar and instead select layers manually by clicking on them in the Layers panel, as we did in this tutorial. So, to recap: Being able to work with selected pieces of content independently is the biggest benefit of using layers.\")]"
      ]
     },
     "execution_count": 13,
     "metadata": {},
     "output_type": "execute_result"
    }
   ],
   "source": [
    "response.additional_kwargs[\"context\"]"
   ]
  },
  {
   "cell_type": "code",
   "execution_count": 14,
   "metadata": {},
   "outputs": [
    {
     "data": {
      "text/plain": [
       "Configuration(eva_workflow_name='EVA_workflow', eva_log_level='INFO', transcript_glob='./data/test.json', embedding_model='mxbai-embed-large', eva_strip_think=True, embedding_api=<ModelAPI.OLLAMA: 'OLLAMA'>, llm_api=<ModelAPI.OLLAMA: 'OLLAMA'>, max_research_loops=2, llm_tool_model='qwen3:4b', n_context_docs=3)"
      ]
     },
     "execution_count": 14,
     "metadata": {},
     "output_type": "execute_result"
    }
   ],
   "source": [
    "Configuration()\n"
   ]
  },
  {
   "cell_type": "code",
   "execution_count": null,
   "metadata": {},
   "outputs": [],
   "source": []
  }
 ],
 "metadata": {
  "kernelspec": {
   "display_name": ".venv",
   "language": "python",
   "name": "python3"
  },
  "language_info": {
   "codemirror_mode": {
    "name": "ipython",
    "version": 3
   },
   "file_extension": ".py",
   "mimetype": "text/x-python",
   "name": "python",
   "nbconvert_exporter": "python",
   "pygments_lexer": "ipython3",
   "version": "3.11.11"
  }
 },
 "nbformat": 4,
 "nbformat_minor": 2
}
