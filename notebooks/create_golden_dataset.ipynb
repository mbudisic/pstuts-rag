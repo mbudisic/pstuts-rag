{
 "cells": [
  {
   "cell_type": "markdown",
   "metadata": {
    "vscode": {
     "languageId": "plaintext"
    }
   },
   "source": [
    "# Create a golden dataset using RAGAS"
   ]
  },
  {
   "cell_type": "code",
   "execution_count": 127,
   "metadata": {},
   "outputs": [],
   "source": [
    "import os\n",
    "import getpass\n",
    "from dotenv import load_dotenv\n",
    "import getpass\n"
   ]
  },
  {
   "cell_type": "code",
   "execution_count": 128,
   "metadata": {},
   "outputs": [],
   "source": [
    "\n",
    "load_dotenv()\n",
    "os.environ[\"LANGCHAIN_TRACING_V2\"] = \"true\"\n",
    "\n",
    "def set_api_key_if_not_present(key_name, prompt_message):\n",
    "    if key_name not in os.environ or not os.environ[key_name]:\n",
    "        os.environ[key_name] = getpass.getpass(prompt_message)\n",
    "\n",
    "set_api_key_if_not_present(\"OPENAI_API_KEY\", \"OpenAI API Key:\")\n",
    "set_api_key_if_not_present(\"TAVILY_API_KEY\", \"TAVILY_API_KEY:\")\n",
    "set_api_key_if_not_present(\"LANGCHAIN_API_KEY\", \"LANGCHAIN_API_KEY:\")"
   ]
  },
  {
   "cell_type": "markdown",
   "metadata": {},
   "source": [
    "## Data loading"
   ]
  },
  {
   "cell_type": "markdown",
   "metadata": {},
   "source": [
    "First, we're going to load all of our transcripts in."
   ]
  },
  {
   "cell_type": "code",
   "execution_count": 145,
   "metadata": {},
   "outputs": [
    {
     "name": "stdout",
     "output_type": "stream",
     "text": [
      "pstuts_transcripts_test_dev\n"
     ]
    }
   ],
   "source": [
    "from ast import Dict\n",
    "import json\n",
    "\n",
    "from pstuts_rag.loader import load_json_files\n",
    "filenames = [\"../data/test.json\",\"../data/dev.json\", \"../data/train.json\"]\n",
    "filenames = [\"../data/test.json\",\"../data/dev.json\"]\n",
    "\n",
    "from typing import List, Dict, Any\n",
    "data:List[Dict[str,Any]] = await load_json_files(filenames)\n",
    "\n",
    "from pathlib import Path\n",
    "\n",
    "data_name = \"pstuts_transcripts_\"+\"_\".join(Path(path).stem for path in filenames )\n",
    "    \n",
    "print(data_name)\n",
    "\n"
   ]
  },
  {
   "cell_type": "markdown",
   "metadata": {},
   "source": [
    "The following are all data keys. `group` indicates the filename the transcript was loaded from.\n"
   ]
  },
  {
   "cell_type": "code",
   "execution_count": 146,
   "metadata": {},
   "outputs": [
    {
     "name": "stdout",
     "output_type": "stream",
     "text": [
      "Number of files: 22\n",
      "File data fields: dict_keys(['video_id', 'title', 'desc', 'length', 'url', 'transcripts', 'qa', 'group'])\n"
     ]
    }
   ],
   "source": [
    "print(f\"Number of files: {len(data)}\")\n",
    "print(f\"File data fields: {data[0].keys()}\" )\n"
   ]
  },
  {
   "cell_type": "markdown",
   "metadata": {},
   "source": [
    "In each file, `transcripts` field is a list of transcript chunks"
   ]
  },
  {
   "cell_type": "code",
   "execution_count": 147,
   "metadata": {},
   "outputs": [
    {
     "name": "stdout",
     "output_type": "stream",
     "text": [
      "Transcripts in first file: 58\n",
      "Transcript keys: dict_keys(['sent_id', 'sent', 'begin', 'end'])\n"
     ]
    }
   ],
   "source": [
    "print(f\"Transcripts in first file: {len(data[0][\"transcripts\"])}\")\n",
    "print(f\"Transcript keys: {data[0][\"transcripts\"][0].keys()}\" )"
   ]
  },
  {
   "cell_type": "markdown",
   "metadata": {},
   "source": [
    "Now, we will load the documents from transcripts.\n",
    "\n",
    "In this case, we are going to use the loader that loads 1 document per video.\n",
    "(As opposed to the `VideoTranscriptChunkLoader` that loads 1 doc per chunk)"
   ]
  },
  {
   "cell_type": "code",
   "execution_count": 148,
   "metadata": {},
   "outputs": [
    {
     "name": "stdout",
     "output_type": "stream",
     "text": [
      "# of documents: 22. # of videos: 22\n"
     ]
    }
   ],
   "source": [
    "from pstuts_rag.loader import VideoTranscriptBulkLoader\n",
    "\n",
    "\n",
    "loader = VideoTranscriptBulkLoader(json_payload=data)\n",
    "docs = loader.load()\n",
    "\n",
    "print(f\"# of documents: {len(docs)}. # of videos: {len(data)}\")"
   ]
  },
  {
   "cell_type": "markdown",
   "metadata": {},
   "source": [
    "## Building the knowledge graph"
   ]
  },
  {
   "cell_type": "code",
   "execution_count": 149,
   "metadata": {},
   "outputs": [],
   "source": [
    "from ragas.llms import LangchainLLMWrapper\n",
    "from ragas.embeddings import LangchainEmbeddingsWrapper\n",
    "from langchain_openai import ChatOpenAI\n",
    "from langchain_openai import OpenAIEmbeddings\n",
    "from ragas.testset.graph import KnowledgeGraph\n",
    "from ragas.testset.graph import Node, NodeType\n",
    "from ragas.testset.transforms import default_transforms, apply_transforms\n"
   ]
  },
  {
   "cell_type": "code",
   "execution_count": 150,
   "metadata": {},
   "outputs": [],
   "source": [
    "generator_llm = LangchainLLMWrapper(ChatOpenAI(model=\"gpt-4.1-mini\"))\n",
    "generator_embeddings = LangchainEmbeddingsWrapper(OpenAIEmbeddings())\n",
    "\n",
    "transformer_llm = generator_llm\n",
    "embedding_model = generator_embeddings\n"
   ]
  },
  {
   "cell_type": "code",
   "execution_count": 151,
   "metadata": {},
   "outputs": [],
   "source": [
    "root = Path(\"../data\")\n",
    "kg_filename = Path(f\"kg_{data_name}.json\")\n",
    "kg_path = root.joinpath(kg_filename)"
   ]
  },
  {
   "cell_type": "code",
   "execution_count": 152,
   "metadata": {},
   "outputs": [
    {
     "name": "stdout",
     "output_type": "stream",
     "text": [
      "../data/kg_pstuts_transcripts_test_dev.json does not contain a knowledge graph. Generating.\n",
      "Initial size KnowledgeGraph(nodes: 22, relationships: 0)\n"
     ]
    },
    {
     "data": {
      "application/vnd.jupyter.widget-view+json": {
       "model_id": "a3a03e8639fb4148add8bd1997bb7e71",
       "version_major": 2,
       "version_minor": 0
      },
      "text/plain": [
       "Applying HeadlinesExtractor:   0%|          | 0/21 [00:00<?, ?it/s]"
      ]
     },
     "metadata": {},
     "output_type": "display_data"
    },
    {
     "data": {
      "application/vnd.jupyter.widget-view+json": {
       "model_id": "cd4c56f29d35411f9d8980bb2d1eda2d",
       "version_major": 2,
       "version_minor": 0
      },
      "text/plain": [
       "Applying HeadlineSplitter:   0%|          | 0/22 [00:00<?, ?it/s]"
      ]
     },
     "metadata": {},
     "output_type": "display_data"
    },
    {
     "name": "stderr",
     "output_type": "stream",
     "text": [
      "unable to apply transformation: 'headlines' property not found in this node\n"
     ]
    },
    {
     "data": {
      "application/vnd.jupyter.widget-view+json": {
       "model_id": "30b9923358a7484ba10ebc29c4416f9c",
       "version_major": 2,
       "version_minor": 0
      },
      "text/plain": [
       "Applying SummaryExtractor:   0%|          | 0/37 [00:00<?, ?it/s]"
      ]
     },
     "metadata": {},
     "output_type": "display_data"
    },
    {
     "name": "stderr",
     "output_type": "stream",
     "text": [
      "Property 'summary' already exists in node '9c97f4'. Skipping!\n",
      "Property 'summary' already exists in node '8a8e28'. Skipping!\n",
      "Property 'summary' already exists in node 'dcd67c'. Skipping!\n",
      "Property 'summary' already exists in node '876b13'. Skipping!\n",
      "Property 'summary' already exists in node '8898c4'. Skipping!\n",
      "Property 'summary' already exists in node '3f46e3'. Skipping!\n",
      "Property 'summary' already exists in node '118e6c'. Skipping!\n",
      "Property 'summary' already exists in node '9c28dd'. Skipping!\n",
      "Property 'summary' already exists in node 'd9cbc0'. Skipping!\n",
      "Property 'summary' already exists in node 'a0f2e0'. Skipping!\n",
      "Property 'summary' already exists in node '8679a1'. Skipping!\n",
      "Property 'summary' already exists in node '5403e1'. Skipping!\n",
      "Property 'summary' already exists in node 'a71e28'. Skipping!\n",
      "Property 'summary' already exists in node '767485'. Skipping!\n",
      "Property 'summary' already exists in node '2b676d'. Skipping!\n",
      "Property 'summary' already exists in node '4dd9a1'. Skipping!\n"
     ]
    },
    {
     "data": {
      "application/vnd.jupyter.widget-view+json": {
       "model_id": "cff631ccbbb9417ea47c879f39573e5a",
       "version_major": 2,
       "version_minor": 0
      },
      "text/plain": [
       "Applying CustomNodeFilter:   0%|          | 0/12 [00:00<?, ?it/s]"
      ]
     },
     "metadata": {},
     "output_type": "display_data"
    },
    {
     "data": {
      "application/vnd.jupyter.widget-view+json": {
       "model_id": "8c8dbe1d10054d8ea12c52eefc3ca12e",
       "version_major": 2,
       "version_minor": 0
      },
      "text/plain": [
       "Applying [EmbeddingExtractor, ThemesExtractor, NERExtractor]:   0%|          | 0/57 [00:00<?, ?it/s]"
      ]
     },
     "metadata": {},
     "output_type": "display_data"
    },
    {
     "name": "stderr",
     "output_type": "stream",
     "text": [
      "Property 'summary_embedding' already exists in node '9c97f4'. Skipping!\n",
      "Property 'summary_embedding' already exists in node 'dcd67c'. Skipping!\n",
      "Property 'summary_embedding' already exists in node '876b13'. Skipping!\n",
      "Property 'summary_embedding' already exists in node 'a0f2e0'. Skipping!\n",
      "Property 'summary_embedding' already exists in node 'd9cbc0'. Skipping!\n",
      "Property 'summary_embedding' already exists in node '118e6c'. Skipping!\n",
      "Property 'summary_embedding' already exists in node '8898c4'. Skipping!\n",
      "Property 'summary_embedding' already exists in node '8679a1'. Skipping!\n",
      "Property 'summary_embedding' already exists in node '8a8e28'. Skipping!\n",
      "Property 'summary_embedding' already exists in node '3f46e3'. Skipping!\n",
      "Property 'summary_embedding' already exists in node '9c28dd'. Skipping!\n",
      "Property 'summary_embedding' already exists in node '5403e1'. Skipping!\n",
      "Property 'summary_embedding' already exists in node 'a71e28'. Skipping!\n",
      "Property 'summary_embedding' already exists in node '767485'. Skipping!\n",
      "Property 'summary_embedding' already exists in node '2b676d'. Skipping!\n",
      "Property 'summary_embedding' already exists in node '4dd9a1'. Skipping!\n"
     ]
    },
    {
     "data": {
      "application/vnd.jupyter.widget-view+json": {
       "model_id": "f97f574c4fb047d99e37531c6a97c4c5",
       "version_major": 2,
       "version_minor": 0
      },
      "text/plain": [
       "Applying [CosineSimilarityBuilder, OverlapScoreBuilder]:   0%|          | 0/2 [00:00<?, ?it/s]"
      ]
     },
     "metadata": {},
     "output_type": "display_data"
    },
    {
     "name": "stdout",
     "output_type": "stream",
     "text": [
      "After transformations size KnowledgeGraph(nodes: 48, relationships: 695)\n",
      "Saved to ../data/kg_pstuts_transcripts_test_dev.json.\n"
     ]
    },
    {
     "data": {
      "text/plain": [
       "KnowledgeGraph(nodes: 48, relationships: 695)"
      ]
     },
     "execution_count": 152,
     "metadata": {},
     "output_type": "execute_result"
    }
   ],
   "source": [
    "kg = KnowledgeGraph()\n",
    "\n",
    "try:\n",
    "    kg = kg.load(kg_path)\n",
    "    print(f\"Loaded from {kg_path}.\")\n",
    "except:\n",
    "    print(f\"{kg_path} does not contain a knowledge graph. Generating.\")\n",
    "    for doc in docs:\n",
    "        kg.nodes.append(\n",
    "            Node(\n",
    "                type=NodeType.DOCUMENT,\n",
    "                properties={\"page_content\": doc.page_content, \n",
    "                            \"document_metadata\": doc.metadata}\n",
    "            )\n",
    "        )\n",
    "    print(f\"Initial size {str(kg)}\")\n",
    "    default_transforms = default_transforms(documents=docs, \n",
    "                                            llm=transformer_llm, \n",
    "                                            embedding_model=embedding_model)\n",
    "    apply_transforms(kg, default_transforms)\n",
    "    print(f\"After transformations size {str(kg)}\")\n",
    "    kg.save(kg_path)\n",
    "    print(f\"Saved to {kg_path}.\")\n",
    "    \n",
    "kg"
   ]
  },
  {
   "cell_type": "markdown",
   "metadata": {},
   "source": [
    "## Test set generator"
   ]
  },
  {
   "cell_type": "code",
   "execution_count": 153,
   "metadata": {},
   "outputs": [],
   "source": [
    "from ragas.testset import TestsetGenerator\n",
    "\n",
    "personas = [\n",
    "    Persona(\n",
    "    name=\"Beginner Photoshop User\",\n",
    "    role_description=(\"Beginner Photoshop user, learning to complete \"\n",
    "                      \"simple tasks, use the tools in Photoshop \"\n",
    "                      \"and navigate the graphical user interface\"),\n",
    "),\n",
    "    Persona(\n",
    "    name=\"Photoshop trainer\",\n",
    "    role_description=(\"Experienced trainer in Photoshop. Looking to develop\"\n",
    "                      \"step-by-step guides for Photoshop beginners\"),\n",
    ")\n",
    "]\n",
    "\n",
    "generator = TestsetGenerator(llm=generator_llm, \n",
    "                             embedding_model=embedding_model, \n",
    "                             persona_list=personas,\n",
    "                             knowledge_graph=kg)"
   ]
  },
  {
   "cell_type": "code",
   "execution_count": 154,
   "metadata": {},
   "outputs": [],
   "source": [
    "from ragas.testset.synthesizers import default_query_distribution, SingleHopSpecificQuerySynthesizer, MultiHopAbstractQuerySynthesizer, MultiHopSpecificQuerySynthesizer\n",
    "from ragas.testset.persona import Persona\n",
    "query_distribution = [\n",
    "        (SingleHopSpecificQuerySynthesizer(llm=generator_llm), 0.8),\n",
    "        (MultiHopAbstractQuerySynthesizer(llm=generator_llm), 0.1),\n",
    "        (MultiHopSpecificQuerySynthesizer(llm=generator_llm), 0.1),\n",
    "]\n"
   ]
  },
  {
   "cell_type": "markdown",
   "metadata": {},
   "source": []
  },
  {
   "cell_type": "code",
   "execution_count": 159,
   "metadata": {},
   "outputs": [
    {
     "data": {
      "application/vnd.jupyter.widget-view+json": {
       "model_id": "655a6981a810458bb5f84e8df4d4da77",
       "version_major": 2,
       "version_minor": 0
      },
      "text/plain": [
       "Generating Scenarios:   0%|          | 0/3 [00:00<?, ?it/s]"
      ]
     },
     "metadata": {},
     "output_type": "display_data"
    },
    {
     "data": {
      "application/vnd.jupyter.widget-view+json": {
       "model_id": "a7007c4af6b641da889e286e03d51415",
       "version_major": 2,
       "version_minor": 0
      },
      "text/plain": [
       "Batch 1/1:   0%|          | 0/3 [00:00<?, ?it/s]"
      ]
     },
     "metadata": {},
     "output_type": "display_data"
    },
    {
     "data": {
      "application/vnd.jupyter.widget-view+json": {
       "model_id": "37b7421994104b0ebfbf593d16778425",
       "version_major": 2,
       "version_minor": 0
      },
      "text/plain": [
       "Generating Samples:   0%|          | 0/100 [00:00<?, ?it/s]"
      ]
     },
     "metadata": {},
     "output_type": "display_data"
    },
    {
     "data": {
      "application/vnd.jupyter.widget-view+json": {
       "model_id": "e118cb7a6eae4ba784738a5b076b16fd",
       "version_major": 2,
       "version_minor": 0
      },
      "text/plain": [
       "Batch 1/13:   0%|          | 0/8 [00:00<?, ?it/s]"
      ]
     },
     "metadata": {},
     "output_type": "display_data"
    }
   ],
   "source": [
    "\n",
    "testset = generator.generate(\n",
    "    testset_size=100, \n",
    "    batch_size=8,\n",
    "    num_personas=len(personas),\n",
    "    query_distribution=query_distribution)\n"
   ]
  },
  {
   "cell_type": "code",
   "execution_count": 160,
   "metadata": {},
   "outputs": [
    {
     "data": {
      "text/html": [
       "<div>\n",
       "<style scoped>\n",
       "    .dataframe tbody tr th:only-of-type {\n",
       "        vertical-align: middle;\n",
       "    }\n",
       "\n",
       "    .dataframe tbody tr th {\n",
       "        vertical-align: top;\n",
       "    }\n",
       "\n",
       "    .dataframe thead th {\n",
       "        text-align: right;\n",
       "    }\n",
       "</style>\n",
       "<table border=\"1\" class=\"dataframe\">\n",
       "  <thead>\n",
       "    <tr style=\"text-align: right;\">\n",
       "      <th></th>\n",
       "      <th>user_input</th>\n",
       "      <th>reference</th>\n",
       "    </tr>\n",
       "  </thead>\n",
       "  <tbody>\n",
       "    <tr>\n",
       "      <th>0</th>\n",
       "      <td>How I can use Move tool to move many layers at...</td>\n",
       "      <td>If you have the Move tool selected in Photosho...</td>\n",
       "    </tr>\n",
       "    <tr>\n",
       "      <th>1</th>\n",
       "      <td>How I can use Windows key for select layers in...</td>\n",
       "      <td>In Photoshop, when selecting layers to put int...</td>\n",
       "    </tr>\n",
       "    <tr>\n",
       "      <th>2</th>\n",
       "      <td>How I select layers in Windows for group in Ph...</td>\n",
       "      <td>In Windows, to select layers for grouping in P...</td>\n",
       "    </tr>\n",
       "    <tr>\n",
       "      <th>3</th>\n",
       "      <td>how i make group in adobe photoshop to reduce ...</td>\n",
       "      <td>In Adobe Photoshop, you can reduce clutter in ...</td>\n",
       "    </tr>\n",
       "    <tr>\n",
       "      <th>4</th>\n",
       "      <td>Wut is Group 1 in Photoshop and how do I use it?</td>\n",
       "      <td>Group 1 in Photoshop is a folder created by cl...</td>\n",
       "    </tr>\n",
       "    <tr>\n",
       "      <th>...</th>\n",
       "      <td>...</td>\n",
       "      <td>...</td>\n",
       "    </tr>\n",
       "    <tr>\n",
       "      <th>95</th>\n",
       "      <td>How do you use the Rectangular Marquee tool to...</td>\n",
       "      <td>To use the Rectangular Marquee tool to make a ...</td>\n",
       "    </tr>\n",
       "    <tr>\n",
       "      <th>96</th>\n",
       "      <td>How do you use the Select menu to deselect a s...</td>\n",
       "      <td>After making a selection with the Rectangular ...</td>\n",
       "    </tr>\n",
       "    <tr>\n",
       "      <th>97</th>\n",
       "      <td>In Photoshop CC, how can a beginner add extra ...</td>\n",
       "      <td>In Photoshop CC, to add extra canvas space to ...</td>\n",
       "    </tr>\n",
       "    <tr>\n",
       "      <th>98</th>\n",
       "      <td>How can I add extra pixels to just one side of...</td>\n",
       "      <td>To add extra pixels to just one side of an ima...</td>\n",
       "    </tr>\n",
       "    <tr>\n",
       "      <th>99</th>\n",
       "      <td>How can a beginner Photoshop user use the Comm...</td>\n",
       "      <td>A beginner Photoshop user can use the Command ...</td>\n",
       "    </tr>\n",
       "  </tbody>\n",
       "</table>\n",
       "<p>100 rows × 2 columns</p>\n",
       "</div>"
      ],
      "text/plain": [
       "                                           user_input  \\\n",
       "0   How I can use Move tool to move many layers at...   \n",
       "1   How I can use Windows key for select layers in...   \n",
       "2   How I select layers in Windows for group in Ph...   \n",
       "3   how i make group in adobe photoshop to reduce ...   \n",
       "4    Wut is Group 1 in Photoshop and how do I use it?   \n",
       "..                                                ...   \n",
       "95  How do you use the Rectangular Marquee tool to...   \n",
       "96  How do you use the Select menu to deselect a s...   \n",
       "97  In Photoshop CC, how can a beginner add extra ...   \n",
       "98  How can I add extra pixels to just one side of...   \n",
       "99  How can a beginner Photoshop user use the Comm...   \n",
       "\n",
       "                                            reference  \n",
       "0   If you have the Move tool selected in Photosho...  \n",
       "1   In Photoshop, when selecting layers to put int...  \n",
       "2   In Windows, to select layers for grouping in P...  \n",
       "3   In Adobe Photoshop, you can reduce clutter in ...  \n",
       "4   Group 1 in Photoshop is a folder created by cl...  \n",
       "..                                                ...  \n",
       "95  To use the Rectangular Marquee tool to make a ...  \n",
       "96  After making a selection with the Rectangular ...  \n",
       "97  In Photoshop CC, to add extra canvas space to ...  \n",
       "98  To add extra pixels to just one side of an ima...  \n",
       "99  A beginner Photoshop user can use the Command ...  \n",
       "\n",
       "[100 rows x 2 columns]"
      ]
     },
     "execution_count": 160,
     "metadata": {},
     "output_type": "execute_result"
    }
   ],
   "source": [
    "testset.to_pandas()[[\"user_input\", \"reference\"]]"
   ]
  },
  {
   "cell_type": "code",
   "execution_count": 161,
   "metadata": {},
   "outputs": [
    {
     "name": "stdout",
     "output_type": "stream",
     "text": [
      "Testset uploaded! View at https://app.ragas.io/dashboard/alignment/testset/94d276d0-95aa-4305-839c-c846af514e2e\n"
     ]
    },
    {
     "data": {
      "text/plain": [
       "'https://app.ragas.io/dashboard/alignment/testset/94d276d0-95aa-4305-839c-c846af514e2e'"
      ]
     },
     "execution_count": 161,
     "metadata": {},
     "output_type": "execute_result"
    }
   ],
   "source": [
    "testset.upload()"
   ]
  },
  {
   "cell_type": "code",
   "execution_count": 162,
   "metadata": {},
   "outputs": [
    {
     "data": {
      "text/plain": [
       "KnowledgeGraph(nodes: 48, relationships: 695)"
      ]
     },
     "execution_count": 162,
     "metadata": {},
     "output_type": "execute_result"
    }
   ],
   "source": [
    "kg"
   ]
  },
  {
   "cell_type": "code",
   "execution_count": 165,
   "metadata": {},
   "outputs": [
    {
     "data": {
      "application/vnd.jupyter.widget-view+json": {
       "model_id": "264714962ac74dec896548157e691803",
       "version_major": 2,
       "version_minor": 0
      },
      "text/plain": [
       "VBox(children=(HTML(value='<center> <img\\nsrc=https://huggingface.co/front/assets/huggingface_logo-noborder.sv…"
      ]
     },
     "metadata": {},
     "output_type": "display_data"
    },
    {
     "data": {
      "application/vnd.jupyter.widget-view+json": {
       "model_id": "560ae4c3b1b1446f9ba6bd9687e11c57",
       "version_major": 2,
       "version_minor": 0
      },
      "text/plain": [
       "Uploading the dataset shards:   0%|          | 0/1 [00:00<?, ?it/s]"
      ]
     },
     "metadata": {},
     "output_type": "display_data"
    },
    {
     "data": {
      "application/vnd.jupyter.widget-view+json": {
       "model_id": "c89b9b036ee44a93907628e1ad9ba2af",
       "version_major": 2,
       "version_minor": 0
      },
      "text/plain": [
       "Creating parquet from Arrow format:   0%|          | 0/1 [00:00<?, ?ba/s]"
      ]
     },
     "metadata": {},
     "output_type": "display_data"
    },
    {
     "data": {
      "text/plain": [
       "CommitInfo(commit_url='https://huggingface.co/datasets/mbudisic/pstuts_rag_qa/commit/6b0d6bb3d96c1d26e5678fd1b781401047ea5d92', commit_message='Upload dataset', commit_description='', oid='6b0d6bb3d96c1d26e5678fd1b781401047ea5d92', pr_url=None, repo_url=RepoUrl('https://huggingface.co/datasets/mbudisic/pstuts_rag_qa', endpoint='https://huggingface.co', repo_type='dataset', repo_id='mbudisic/pstuts_rag_qa'), pr_revision=None, pr_num=None)"
      ]
     },
     "execution_count": 165,
     "metadata": {},
     "output_type": "execute_result"
    }
   ],
   "source": [
    "from huggingface_hub import login\n",
    "login()\n",
    "ragas_dataset = testset.to_hf_dataset()\n",
    "# ragas_dataset.push_to_hub(\"mbudisic/pstuts_rag_qa\")"
   ]
  },
  {
   "cell_type": "code",
   "execution_count": null,
   "metadata": {},
   "outputs": [],
   "source": []
  }
 ],
 "metadata": {
  "kernelspec": {
   "display_name": ".venv",
   "language": "python",
   "name": "python3"
  },
  "language_info": {
   "codemirror_mode": {
    "name": "ipython",
    "version": 3
   },
   "file_extension": ".py",
   "mimetype": "text/x-python",
   "name": "python",
   "nbconvert_exporter": "python",
   "pygments_lexer": "ipython3",
   "version": "3.13.2"
  }
 },
 "nbformat": 4,
 "nbformat_minor": 2
}
